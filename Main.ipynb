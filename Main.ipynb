{
 "cells": [
  {
   "cell_type": "code",
   "execution_count": 6,
   "metadata": {},
   "outputs": [],
   "source": [
    "import evaluation.evaluation_plotting as evaluation_plotting\n",
    "import model.EpidRLearn as EpidRLearn\n",
    "import evaluation.Comparison as Comparison\n",
    "import pandas as pd\n",
    "import env_\n",
    "from stable_baselines3 import PPO\n"
   ]
  },
  {
   "cell_type": "markdown",
   "metadata": {},
   "source": [
    "## EpidRLearn"
   ]
  },
  {
   "cell_type": "code",
   "execution_count": null,
   "metadata": {},
   "outputs": [],
   "source": []
  },
  {
   "cell_type": "code",
   "execution_count": null,
   "metadata": {},
   "outputs": [],
   "source": [
    "#if you want to retrain the model\n",
    "#EpidRLearn.train(problem_id=3, reward_id=0, model_name = 'model', time_steps=250_000)"
   ]
  },
  {
   "cell_type": "code",
   "execution_count": null,
   "metadata": {},
   "outputs": [],
   "source": [
    "model = PPO.load(\"temp/models/epidRLearn_NEW\")\n",
    "period = 'autumn'\n",
    "\n",
    "envr = env_.Epidemic(problem_id = 3, reward_id=0, period = period)\n",
    "reward, actions = evaluation_plotting.evaluate(model, num_episodes=10, reward_id= 0, problem_id = 3, period = period)"
   ]
  },
  {
   "cell_type": "code",
   "execution_count": null,
   "metadata": {},
   "outputs": [],
   "source": [
    "## Comparison of rewards\n",
    "\n",
    "#Comparison.train(problem_id=2, reward_id=[1], time_steps=250_000)\n"
   ]
  },
  {
   "cell_type": "code",
   "execution_count": 9,
   "metadata": {},
   "outputs": [],
   "source": [
    "#Comparison.evaluate_rewards(model_id=[0,1], num_episodes=1, reward_id=[0,1], problem_id=2, period='autumn')\n",
    "#em0= pd.read_csv(\"Analysis_Files/exposed_model0.csv\")\n",
    "#em0.drop(['Unnamed: 0'], axis=1, inplace=True)\n",
    "#em1= pd.read_csv(\"Analysis_Files/exposed_model1.csv\")\n",
    "#em1.drop(['Unnamed: 0'], axis=1, inplace=True)\n",
    "\n",
    "#list_of_models = [em0, em1]\n",
    "\n",
    "#Comparison.plot_reward_cases('012', list_of_models)"
   ]
  },
  {
   "cell_type": "code",
   "execution_count": null,
   "metadata": {},
   "outputs": [],
   "source": []
  },
  {
   "cell_type": "code",
   "execution_count": null,
   "metadata": {},
   "outputs": [],
   "source": []
  }
 ],
 "metadata": {
  "interpreter": {
   "hash": "4a3821e50dfd29f54393a38062d93a54d0c9d954cd67861638d013f261604981"
  },
  "kernelspec": {
   "display_name": "Python 3.7.4 64-bit",
   "name": "python3"
  },
  "language_info": {
   "codemirror_mode": {
    "name": "ipython",
    "version": 3
   },
   "file_extension": ".py",
   "mimetype": "text/x-python",
   "name": "python",
   "nbconvert_exporter": "python",
   "pygments_lexer": "ipython3",
   "version": "3.7.9"
  },
  "metadata": {
   "interpreter": {
    "hash": "4a3821e50dfd29f54393a38062d93a54d0c9d954cd67861638d013f261604981"
   }
  }
 },
 "nbformat": 4,
 "nbformat_minor": 2
}
